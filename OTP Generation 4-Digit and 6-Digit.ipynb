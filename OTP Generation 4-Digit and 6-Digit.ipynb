{
 "cells": [
  {
   "cell_type": "markdown",
   "metadata": {
    "application/vnd.databricks.v1+cell": {
     "cellMetadata": {},
     "inputWidgets": {},
     "nuid": "fe8c228b-e8f0-4b68-a0f9-56d190bca12d",
     "showTitle": false,
     "title": ""
    }
   },
   "source": [
    "#Creating Random OTP 4-Digit or 6-Digit in Pyspark"
   ]
  },
  {
   "cell_type": "code",
   "execution_count": 0,
   "metadata": {
    "application/vnd.databricks.v1+cell": {
     "cellMetadata": {
      "byteLimit": 2048000,
      "rowLimit": 10000
     },
     "inputWidgets": {},
     "nuid": "97447637-e600-4fe1-80d5-a4241e5cc44b",
     "showTitle": false,
     "title": ""
    }
   },
   "outputs": [
    {
     "output_type": "stream",
     "name": "stdout",
     "output_type": "stream",
     "text": [
      "Generated OTP: 0860\n"
     ]
    }
   ],
   "source": [
    "from pyspark.sql import SparkSession\n",
    "import random\n",
    "\n",
    "# Create a SparkSession\n",
    "spark = SparkSession.builder.getOrCreate()\n",
    "\n",
    "# Define the number of digits in the OTP\n",
    "otp_length = 4\n",
    "\n",
    "# Generate an OTP\n",
    "def generate_otp():\n",
    "    otp = \"\"\n",
    "    for _ in range(otp_length):\n",
    "        otp += str(random.randint(0, 9))\n",
    "    return otp\n",
    "\n",
    "# Create an RDD with a single record and generate OTP\n",
    "rdd = spark.sparkContext.parallelize([1])\n",
    "otp_rdd = rdd.map(lambda x: generate_otp())\n",
    "\n",
    "# Collect the OTP\n",
    "otp = otp_rdd.first()\n",
    "print(\"Generated OTP:\", otp)\n"
   ]
  },
  {
   "cell_type": "markdown",
   "metadata": {
    "application/vnd.databricks.v1+cell": {
     "cellMetadata": {},
     "inputWidgets": {},
     "nuid": "60c24499-89a4-4d01-9ea9-eeae4173d2d2",
     "showTitle": false,
     "title": ""
    }
   },
   "source": [
    "In this example, we create a SparkSession and define the desired length of the OTP (in this case, 4-Digits). We then define a function generate_otp() that generates a random OTP of the specified length. The function uses a loop to generate each digit of the OTP by randomly selecting a number between 0 and 9 and concatenating it to the OTP string.\n",
    "\n",
    "Next, we create an RDD with a single record (in this case, just the number 1) and apply the generate_otp() function using the map() transformation. Finally, we collect the OTP using the first() action and print it.\n",
    "\n",
    "Keep in mind that PySpark is primarily designed for distributed processing of large datasets. If you're looking for a simpler way to generate OTPs in regular Python without the need for Spark, you can use the random module directly."
   ]
  },
  {
   "cell_type": "code",
   "execution_count": 0,
   "metadata": {
    "application/vnd.databricks.v1+cell": {
     "cellMetadata": {
      "byteLimit": 2048000,
      "rowLimit": 10000
     },
     "inputWidgets": {},
     "nuid": "b6d12e12-b638-4ff4-8be2-b157505a05c3",
     "showTitle": false,
     "title": ""
    }
   },
   "outputs": [
    {
     "output_type": "stream",
     "name": "stdout",
     "output_type": "stream",
     "text": [
      "Generated OTP: 503040\n"
     ]
    }
   ],
   "source": [
    "from pyspark.sql import SparkSession\n",
    "import random\n",
    "\n",
    "# Create a SparkSession\n",
    "spark = SparkSession.builder.getOrCreate()\n",
    "\n",
    "# Define the number of digits in the OTP\n",
    "otp_length = 6\n",
    "\n",
    "# Generate an OTP\n",
    "def generate_otp():\n",
    "    otp = \"\"\n",
    "    for _ in range(otp_length):\n",
    "        otp += str(random.randint(0, 9))\n",
    "    return otp\n",
    "\n",
    "# Create an RDD with a single record and generate OTP\n",
    "rdd = spark.sparkContext.parallelize([1])\n",
    "otp_rdd = rdd.map(lambda x: generate_otp())\n",
    "\n",
    "# Collect the OTP\n",
    "otp = otp_rdd.first()\n",
    "print(\"Generated OTP:\", otp)\n"
   ]
  },
  {
   "cell_type": "markdown",
   "metadata": {
    "application/vnd.databricks.v1+cell": {
     "cellMetadata": {},
     "inputWidgets": {},
     "nuid": "4aa91095-5145-42d3-a4f7-8615819becda",
     "showTitle": false,
     "title": ""
    }
   },
   "source": [
    "In this example, we create a SparkSession and define the desired length of the OTP (in this case, 6-Digits). We then define a function generate_otp() that generates a random OTP of the specified length. The function uses a loop to generate each digit of the OTP by randomly selecting a number between 0 and 9 and concatenating it to the OTP string.\n",
    "\n",
    "Next, we create an RDD with a single record (in this case, just the number 1) and apply the generate_otp() function using the map() transformation. Finally, we collect the OTP using the first() action and print it.\n",
    "\n",
    "Keep in mind that PySpark is primarily designed for distributed processing of large datasets. If you're looking for a simpler way to generate OTPs in regular Python without the need for Spark, you can use the random module directly."
   ]
  }
 ],
 "metadata": {
  "application/vnd.databricks.v1+notebook": {
   "dashboards": [],
   "language": "python",
   "notebookMetadata": {
    "pythonIndentUnit": 4
   },
   "notebookName": "OTP Generation 4-Digit and 6-Digit",
   "widgets": {}
  }
 },
 "nbformat": 4,
 "nbformat_minor": 0
}
